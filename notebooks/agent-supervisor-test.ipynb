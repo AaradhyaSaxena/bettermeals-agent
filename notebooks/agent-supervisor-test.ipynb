{
 "cells": [
  {
   "cell_type": "code",
   "execution_count": 1,
   "id": "b7761c21-0d08-4c11-87d5-606af6db557f",
   "metadata": {},
   "outputs": [
    {
     "data": {
      "text/plain": [
       "True"
      ]
     },
     "execution_count": 1,
     "metadata": {},
     "output_type": "execute_result"
    }
   ],
   "source": [
    "from dotenv import load_dotenv\n",
    "import os\n",
    "\n",
    "load_dotenv()"
   ]
  },
  {
   "cell_type": "code",
   "execution_count": 2,
   "id": "534bd8d9-162f-4b3a-864a-8e1d0167f5ac",
   "metadata": {},
   "outputs": [],
   "source": [
    "from langchain_groq import ChatGroq\n",
    "\n",
    "llm = ChatGroq(\n",
    "    model_name=\"llama-3.3-70b-versatile\",\n",
    "    temperature=0.7\n",
    ")"
   ]
  },
  {
   "cell_type": "code",
   "execution_count": 3,
   "id": "87ad663b-e2b2-4464-8b39-13dee0643c64",
   "metadata": {},
   "outputs": [
    {
     "name": "stdout",
     "output_type": "stream",
     "text": [
      "Here's one:\n",
      "\n",
      "Why did the Indian startup founder bring a ladder to the funding meeting?\n",
      "\n",
      "Because he wanted to take his valuation to a higher level, and also to show the investors that his growth trajectory is \"upwardly mobile\" - just like his aunt's son who got a job in the US!\n"
     ]
    }
   ],
   "source": [
    "response = llm.invoke(\"Hello! Can you tell me a short joke in indian context about startup founders?\")\n",
    "print(response.content)"
   ]
  },
  {
   "cell_type": "markdown",
   "id": "377fc77a-747d-4c1e-8c22-1535ee40f974",
   "metadata": {},
   "source": [
    "### Search node"
   ]
  },
  {
   "cell_type": "code",
   "execution_count": 7,
   "id": "4689966d-daa0-4b4e-a754-d3efbd25c709",
   "metadata": {},
   "outputs": [
    {
     "name": "stdout",
     "output_type": "stream",
     "text": [
      "Bengaluru Traffic, Wipro, Azim Premji: Karnataka Chief Minister Siddaramaiah Turns To Wipro As Bengaluru Traffic Worsens.\n"
     ]
    }
   ],
   "source": [
    "from langchain_tavily import TavilySearch\n",
    "\n",
    "web_search = TavilySearch(max_results=3)\n",
    "web_search_results = web_search.invoke(\"who is the Chief Minister of bangalore?\")\n",
    "\n",
    "print(web_search_results[\"results\"][0][\"content\"])"
   ]
  },
  {
   "cell_type": "code",
   "execution_count": 8,
   "id": "7f83607f-e5cb-484f-a666-1cf7fb353563",
   "metadata": {},
   "outputs": [],
   "source": [
    "from langgraph.prebuilt import create_react_agent\n",
    "\n",
    "groq_llm = ChatGroq(\n",
    "    model=\"openai/gpt-oss-20b\",\n",
    "    temperature=0,\n",
    ")\n",
    "\n",
    "# 2. Create BetterMeals research agent using Groq model\n",
    "research_agent = create_react_agent(\n",
    "    model=groq_llm,\n",
    "    tools=[web_search],\n",
    "    prompt=(\n",
    "        \"You are a research agent.\\n\\n\"\n",
    "        \"INSTRUCTIONS:\\n\"\n",
    "        \"- Assist ONLY with research-related tasks, DO NOT do any math\\n\"\n",
    "        \"- After you're done with your tasks, respond to the supervisor directly\\n\"\n",
    "        \"- Respond ONLY with the results of your work, do NOT include ANY other text.\"\n",
    "    ),\n",
    "    name=\"research_agent\",\n",
    ")\n"
   ]
  },
  {
   "cell_type": "code",
   "execution_count": 9,
   "id": "f98c7453-2017-40fc-bbb5-3ac3124de9d3",
   "metadata": {},
   "outputs": [],
   "source": [
    "from langchain_core.messages import convert_to_messages\n",
    "\n",
    "\n",
    "def pretty_print_message(message, indent=False):\n",
    "    pretty_message = message.pretty_repr(html=True)\n",
    "    if not indent:\n",
    "        print(pretty_message)\n",
    "        return\n",
    "\n",
    "    indented = \"\\n\".join(\"\\t\" + c for c in pretty_message.split(\"\\n\"))\n",
    "    print(indented)\n",
    "\n",
    "\n",
    "def pretty_print_messages(update, last_message=False):\n",
    "    is_subgraph = False\n",
    "    if isinstance(update, tuple):\n",
    "        ns, update = update\n",
    "        # skip parent graph updates in the printouts\n",
    "        if len(ns) == 0:\n",
    "            return\n",
    "\n",
    "        graph_id = ns[-1].split(\":\")[0]\n",
    "        print(f\"Update from subgraph {graph_id}:\")\n",
    "        print(\"\\n\")\n",
    "        is_subgraph = True\n",
    "\n",
    "    for node_name, node_update in update.items():\n",
    "        update_label = f\"Update from node {node_name}:\"\n",
    "        if is_subgraph:\n",
    "            update_label = \"\\t\" + update_label\n",
    "\n",
    "        print(update_label)\n",
    "        print(\"\\n\")\n",
    "\n",
    "        messages = convert_to_messages(node_update[\"messages\"])\n",
    "        if last_message:\n",
    "            messages = messages[-1:]\n",
    "\n",
    "        for m in messages:\n",
    "            pretty_print_message(m, indent=is_subgraph)\n",
    "        print(\"\\n\")"
   ]
  },
  {
   "cell_type": "code",
   "execution_count": 11,
   "id": "c5aa01e1-17e4-4880-9c62-a22036de94d0",
   "metadata": {},
   "outputs": [
    {
     "name": "stdout",
     "output_type": "stream",
     "text": [
      "Update from node agent:\n",
      "\n",
      "\n",
      "==================================\u001b[1m Ai Message \u001b[0m==================================\n",
      "Name: research_agent\n",
      "Tool Calls:\n",
      "  tavily_search (fc_1c29d050-adf4-4756-b5da-aef094ef3f8c)\n",
      " Call ID: fc_1c29d050-adf4-4756-b5da-aef094ef3f8c\n",
      "  Args:\n",
      "    query: Chief Minister of Karnataka 2024\n",
      "    search_depth: advanced\n",
      "\n",
      "\n",
      "Update from node tools:\n",
      "\n",
      "\n",
      "=================================\u001b[1m Tool Message \u001b[0m=================================\n",
      "Name: tavily_search\n",
      "\n",
      "{\"query\": \"Chief Minister of Karnataka 2024\", \"follow_up_questions\": null, \"answer\": null, \"images\": [], \"results\": [{\"url\": \"https://vajiramandravi.com/current-affairs/chief-ministers-of-karnataka/\", \"title\": \"Chief Ministers of Karnataka, List from 1947 to 2025, Tenure\", \"content\": \"→ UPSC Toppers List 2024 is released now. Shakti Dubey is UPSC AIR 1 2024 Topper.\\n\\n→ Also check Best IAS Coaching in Delhi\\n\\n## Chief Ministers of Karnataka FAQs\\n\\nQ1. Who is the current Chief Minister of Karnataka?+\\n\\nAns. The current Chief Minister of Karnataka is Siddaramaiah.\\n\\nQ2. How many times has B. S. Yeddyurappa served as Chief Minister of Karnataka?+\\n\\nAns. B. S. Yeddyurappa has served as the Chief Minister of Karnataka four times.\\n\\nQ3. Who was the first Chief Minister of Karnataka?+ [...] After the establishment as a separate state renamed from Mysore, Karnataka has seen 33 prominent leaders as the Chief Ministers of Karnataka from 1947 to 2025. Sri K. Chengalaraya Reddy was the First Chief Minister of Karnataka held the office from 25th October 1947, who led the foundation of growth for the future of the state. Sri Siddaramaiah is serving as the Current Chief Minister of Karnataka who is appointed by the governor as the head of the state on 20th May 2023. The state has foreseen [...] ## First Chief Minister of Karnataka\\n\\nChengalaraya Reddy was the First Chief Ministers of Karnataka. He was also part of the independence war from British rule. For his commendable leadership, he became the first Chief Minister of Karnataka. During his tenure, he majorly did welfare work, like building schools, farms, and helping people who were struggling after independence. \\n\\n## Current Chief Minister of Karnataka\", \"score\": 0.9075175, \"raw_content\": null}, {\"url\": \"https://www.bankbazaar.com/voter-id/chief-ministers-of-karnataka.html\", \"title\": \"List of Chief Ministers of Karnataka - Current CM & Previous\", \"content\": \"Check Free Credit Score\\n\\n### Related Articles\\n\\nCurrent Chief Ministers of All States & Union Territories\\n\\nPrime Ministers of India from 1947 to Till Date\\n\\n\\\\\\n\\nDisclaimer\\n\\n## FAQs on Chief Ministers of Karnataka\\n\\n Who is the chief minister of Karnataka?\\n\\n  As of 2025, the current Chief Minister of Karnataka is Siddaramaiah. He assumed office on May 20, 2023, representing the Indian National Congress (INC).\\n Who was the first Chief Minister of Karnataka? [...] Check Free Credit Score\\n\\n## Current Chief Minister of Karnataka (KA)\\n\\nChief Minister of  KA - Siddaramaiah\\n\\nBorn - 12th august 1948, Varuna\\n\\nPolitical Party - Indian National Congress\\n\\nConstituency - Varuna Constituency\\n\\nSpouse -Parvathi\\n\\nCheck Free Credit Score\\n\\nAlso, know Chief Ministers of 28 States of India \\n\\nChief Ministers of Andhra Pradesh\\n\\nChief Ministers of Arunachal Pradesh\\n\\nChief Ministers of Assam\\n\\nChief Ministers of Bihar\\n\\nChief Ministers of Chhattisgarh\\n\\nChief ministers of Goa\", \"score\": 0.8036831, \"raw_content\": null}, {\"url\": \"https://en.wikipedia.org/wiki/Siddaramaiah\", \"title\": \"Siddaramaiah - Wikipedia\", \"content\": \"73. ^ a b \\\"Karnataka Minister resigns over Valmiki Corporation scam\\\". The Hindu. 10 May 2024. Retrieved 7 June 2025.\\n74. ^ \\\"Serious Allegations of Corruption Against Siddaramaiah-Led Government\\\". The Hans India. 13 May 2024. Retrieved 7 June 2025.\\n75. ^ \\\"Union Minister Prahlad Joshi demands resignation of Karnataka CM Siddaramaiah\\\". Times Now. 14 May 2024. Retrieved 7 June 2025.\\n76. ^ \\\"General Election, 1980 (Vol I, II)\\\". Archived from the original on 6 June 2019. [...] In August 2024, social activist T. J. Abraham filed a formal complaint with the Governor of Karnataka, alleging that Chief Minister Siddaramaiah had misused his position to influence the Mysore Urban Development Authority (MUDA) in allotting 14 residential plots in Mysuru to his wife, B. M. Parvathi. The allegations sparked political uproar, with opposition parties demanding Siddaramaiah’s resignation and staging a protest march from Bengaluru to Mysuru. Further on 17 August the governor Thawar [...] 62. ^ \\\"Karnataka CM Siddaramaiah faces prosecution in MUDA land scam case; What is the scam about?\\\". Business Today. 17 August 2024. Retrieved 17 August 2024.\\n63. ^ \\\"After Kumaraswamy relents in Delhi, BJP-JD(S) protest march to Mysore is back on track tomorrow\\\". The Indian Express. 2 August 2024. Retrieved 17 August 2024.\", \"score\": 0.7969415, \"raw_content\": null}], \"response_time\": 1.37, \"request_id\": \"37e2f0d9-ad0e-4964-96e1-6ce91d310d71\"}\n",
      "\n",
      "\n",
      "Update from node agent:\n",
      "\n",
      "\n",
      "==================================\u001b[1m Ai Message \u001b[0m==================================\n",
      "Name: research_agent\n",
      "\n",
      "Chief Minister of Karnataka (the state that includes Bangalore): **Siddaramaiah** (in office since 20 May 2023).\n",
      "\n",
      "\n"
     ]
    }
   ],
   "source": [
    "for chunk in research_agent.stream(\n",
    "    {\"messages\": [{\"role\": \"user\", \"content\": \"who is the Chief Minister of bangalore?\"}]}\n",
    "):\n",
    "    pretty_print_messages(chunk)"
   ]
  },
  {
   "cell_type": "code",
   "execution_count": 12,
   "id": "9150643a-5684-4723-9c7e-d8c83950cbf0",
   "metadata": {},
   "outputs": [],
   "source": [
    "from typing import TypedDict, Optional\n",
    "\n",
    "class State(TypedDict):\n",
    "    raw_message: str\n",
    "    query_type: Optional[str]\n",
    "    response: Optional[str]\n"
   ]
  },
  {
   "cell_type": "code",
   "execution_count": 28,
   "id": "73134205-0c0b-4f0e-81c2-fb434aa6cfb5",
   "metadata": {},
   "outputs": [],
   "source": [
    "def handle_meal_doubt(state: State):\n",
    "    \"\"\"Answer nutrition/meal-related user doubts.\"\"\"\n",
    "    return {\"response\": f\"[MealDoubtAgent] Answering: {state['raw_message']}\"}\n",
    "\n",
    "def handle_user_update(state: State):\n",
    "    \"\"\"Update user preferences or nutrition plan.\"\"\"\n",
    "    return {\"response\": f\"[UserUpdateAgent] Updating plan with: {state['raw_message']}\"}\n",
    "\n",
    "def handle_cook_update(state: State):\n",
    "    \"\"\"Handle cook updates like missing ingredients.\"\"\"\n",
    "    return {\"response\": f\"[CookUpdateAgent] Cook update received: {state['raw_message']}\"}\n",
    "\n",
    "def handle_grocery_order(state: State):\n",
    "    \"\"\"Trigger or update grocery orders.\"\"\"\n",
    "    return {\"response\": f\"[GroceryOrderAgent] Ordering groceries: {state['raw_message']}\"}\n"
   ]
  },
  {
   "cell_type": "code",
   "execution_count": 29,
   "id": "9fa8cabd-9a24-4b3a-b60f-524fe9938605",
   "metadata": {},
   "outputs": [],
   "source": [
    "supervisor_agent = create_react_agent(\n",
    "    model=groq_llm,\n",
    "    tools=[\n",
    "        handle_meal_doubt,\n",
    "        handle_user_update,\n",
    "        handle_cook_update,\n",
    "        handle_grocery_order,\n",
    "    ],\n",
    "    prompt=(\n",
    "        \"You are the Supervisor Agent for BetterMeals.\\n\"\n",
    "        \"- Route meal/nutrition doubts to MealDoubtAgent.\\n\"\n",
    "        \"- Route user profile or preference changes to UserUpdateAgent.\\n\"\n",
    "        \"- Route cook updates (missing ingredients) to CookUpdateAgent.\\n\"\n",
    "        \"- Route grocery ordering requests to GroceryOrderAgent.\\n\"\n",
    "        \"Always assign tasks to the correct agent. Do not solve them yourself.\"\n",
    "    ),\n",
    "    name=\"supervisor\",\n",
    ")"
   ]
  },
  {
   "cell_type": "code",
   "execution_count": 31,
   "id": "3edffeb8-d3e2-4e6d-8cc2-eb8e9b52c507",
   "metadata": {},
   "outputs": [
    {
     "name": "stdout",
     "output_type": "stream",
     "text": [
      "Update from node agent:\n",
      "\n",
      "\n",
      "==================================\u001b[1m Ai Message \u001b[0m==================================\n",
      "Name: supervisor\n",
      "Tool Calls:\n",
      "  handle_grocery_order (fc_4627a708-183e-4e84-b1f5-9eb0ffd5803a)\n",
      " Call ID: fc_4627a708-183e-4e84-b1f5-9eb0ffd5803a\n",
      "  Args:\n",
      "    state: {'query_type': 'grocery_order', 'raw_message': 'order brocoli for dinner?', 'response': ''}\n",
      "\n",
      "\n",
      "Update from node tools:\n",
      "\n",
      "\n",
      "=================================\u001b[1m Tool Message \u001b[0m=================================\n",
      "Name: handle_grocery_order\n",
      "\n",
      "{\"response\": \"[GroceryOrderAgent] Ordering groceries: order brocoli for dinner?\"}\n",
      "\n",
      "\n",
      "Update from node agent:\n",
      "\n",
      "\n",
      "==================================\u001b[1m Ai Message \u001b[0m==================================\n",
      "Name: supervisor\n",
      "\n",
      "[GroceryOrderAgent] Ordering groceries: order brocoli for dinner?\n",
      "\n",
      "\n"
     ]
    }
   ],
   "source": [
    "for chunk in supervisor_agent.stream(\n",
    "    {\"messages\": [{\"role\": \"user\", \"content\": \"order brocoli for dinner?\"}]}\n",
    "):\n",
    "    pretty_print_messages(chunk)"
   ]
  },
  {
   "cell_type": "code",
   "execution_count": null,
   "id": "c4abea61-2fe1-422a-b4a2-19a3818873f2",
   "metadata": {},
   "outputs": [],
   "source": []
  },
  {
   "cell_type": "code",
   "execution_count": null,
   "id": "418c3a8c-66ba-48c5-bfbf-3dce61ad7ba3",
   "metadata": {},
   "outputs": [],
   "source": []
  },
  {
   "cell_type": "code",
   "execution_count": null,
   "id": "a03fd67d-475a-4009-8f7c-b57d488e0b2f",
   "metadata": {},
   "outputs": [],
   "source": []
  },
  {
   "cell_type": "code",
   "execution_count": null,
   "id": "590a9d6a-a41f-4a05-8fe2-9dc4da352f54",
   "metadata": {},
   "outputs": [],
   "source": []
  },
  {
   "cell_type": "code",
   "execution_count": null,
   "id": "161a3e4b-f997-407d-ad60-5a3b69423974",
   "metadata": {},
   "outputs": [],
   "source": []
  },
  {
   "cell_type": "code",
   "execution_count": null,
   "id": "fd3a3f30-cc32-4f51-b7f2-797828a93109",
   "metadata": {},
   "outputs": [],
   "source": []
  },
  {
   "cell_type": "code",
   "execution_count": null,
   "id": "88718b72-5b7c-4765-99cc-0cc52bf7cc70",
   "metadata": {},
   "outputs": [],
   "source": []
  }
 ],
 "metadata": {
  "kernelspec": {
   "display_name": "Python 3 (ipykernel)",
   "language": "python",
   "name": "python3"
  },
  "language_info": {
   "codemirror_mode": {
    "name": "ipython",
    "version": 3
   },
   "file_extension": ".py",
   "mimetype": "text/x-python",
   "name": "python",
   "nbconvert_exporter": "python",
   "pygments_lexer": "ipython3",
   "version": "3.13.5"
  }
 },
 "nbformat": 4,
 "nbformat_minor": 5
}
