{
 "cells": [
  {
   "cell_type": "code",
   "execution_count": 1,
   "id": "b7761c21-0d08-4c11-87d5-606af6db557f",
   "metadata": {},
   "outputs": [
    {
     "data": {
      "text/plain": [
       "True"
      ]
     },
     "execution_count": 1,
     "metadata": {},
     "output_type": "execute_result"
    }
   ],
   "source": [
    "from dotenv import load_dotenv\n",
    "import os\n",
    "\n",
    "load_dotenv()"
   ]
  },
  {
   "cell_type": "code",
   "execution_count": 2,
   "id": "534bd8d9-162f-4b3a-864a-8e1d0167f5ac",
   "metadata": {},
   "outputs": [],
   "source": [
    "from langchain_groq import ChatGroq\n",
    "\n",
    "llm = ChatGroq(\n",
    "    model_name=\"llama-3.3-70b-versatile\",\n",
    "    temperature=0.7\n",
    ")"
   ]
  },
  {
   "cell_type": "code",
   "execution_count": 3,
   "id": "87ad663b-e2b2-4464-8b39-13dee0643c64",
   "metadata": {},
   "outputs": [
    {
     "name": "stdout",
     "output_type": "stream",
     "text": [
      "Here's one:\n",
      "\n",
      "Why did the Indian startup founder bring a ladder to the meeting?\n",
      "\n",
      "Because he wanted to take his valuation to the next level, and also to reach the \"unicorn\" status, but his investor told him \"beta, pehle seed funding toh paas karo!\" (first, at least pass the seed funding!)\n"
     ]
    }
   ],
   "source": [
    "response = llm.invoke(\"Hello! Can you tell me a short joke in indian context about startup founders?\")\n",
    "print(response.content)"
   ]
  },
  {
   "cell_type": "markdown",
   "id": "377fc77a-747d-4c1e-8c22-1535ee40f974",
   "metadata": {},
   "source": [
    "### Search node"
   ]
  },
  {
   "cell_type": "code",
   "execution_count": 4,
   "id": "4689966d-daa0-4b4e-a754-d3efbd25c709",
   "metadata": {},
   "outputs": [
    {
     "name": "stdout",
     "output_type": "stream",
     "text": [
      "Jump to content ## Contents * 1 History * View history * View history * Download QR code * Download as PDF The mayor's office is located in New York City Hall; it has jurisdiction over all five boroughs \"Borough (New York City)\") of New York City: Manhattan, Brooklyn, the Bronx, Staten Island and Queens. According to current law, the mayor is limited to two consecutive four-year terms in office but may run again after a four-year break. The current mayor is Eric Adams, who was elected on November 2, 2021, and took office shortly after midnight on January 1, 2022. ## History Its last political leader was an African American man named J. (**Discuss**) *(June 2025)* | * Robert W. * Staten Island Historical Society\n"
     ]
    }
   ],
   "source": [
    "from langchain_tavily import TavilySearch\n",
    "\n",
    "web_search = TavilySearch(max_results=3)\n",
    "web_search_results = web_search.invoke(\"who is the mayor of NYC?\")\n",
    "\n",
    "print(web_search_results[\"results\"][0][\"content\"])"
   ]
  },
  {
   "cell_type": "code",
   "execution_count": null,
   "id": "bd315697-ec26-47f7-98eb-88837cca9b32",
   "metadata": {},
   "outputs": [],
   "source": []
  },
  {
   "cell_type": "code",
   "execution_count": 5,
   "id": "7f83607f-e5cb-484f-a666-1cf7fb353563",
   "metadata": {},
   "outputs": [],
   "source": [
    "from langgraph.prebuilt import create_react_agent\n",
    "\n",
    "groq_llm = ChatGroq(\n",
    "    model=\"openai/gpt-oss-20b\",\n",
    "    temperature=0,\n",
    ")\n",
    "\n",
    "# 2. Create BetterMeals research agent using Groq model\n",
    "research_agent = create_react_agent(\n",
    "    model=groq_llm,\n",
    "    tools=[web_search],\n",
    "    prompt=(\n",
    "        \"You are a research agent.\\n\\n\"\n",
    "        \"INSTRUCTIONS:\\n\"\n",
    "        \"- Assist ONLY with research-related tasks, DO NOT do any math\\n\"\n",
    "        \"- After you're done with your tasks, respond to the supervisor directly\\n\"\n",
    "        \"- Respond ONLY with the results of your work, do NOT include ANY other text.\"\n",
    "    ),\n",
    "    name=\"research_agent\",\n",
    ")\n"
   ]
  },
  {
   "cell_type": "code",
   "execution_count": 6,
   "id": "f98c7453-2017-40fc-bbb5-3ac3124de9d3",
   "metadata": {},
   "outputs": [],
   "source": [
    "from langchain_core.messages import convert_to_messages\n",
    "\n",
    "\n",
    "def pretty_print_message(message, indent=False):\n",
    "    pretty_message = message.pretty_repr(html=True)\n",
    "    if not indent:\n",
    "        print(pretty_message)\n",
    "        return\n",
    "\n",
    "    indented = \"\\n\".join(\"\\t\" + c for c in pretty_message.split(\"\\n\"))\n",
    "    print(indented)\n",
    "\n",
    "\n",
    "def pretty_print_messages(update, last_message=False):\n",
    "    is_subgraph = False\n",
    "    if isinstance(update, tuple):\n",
    "        ns, update = update\n",
    "        # skip parent graph updates in the printouts\n",
    "        if len(ns) == 0:\n",
    "            return\n",
    "\n",
    "        graph_id = ns[-1].split(\":\")[0]\n",
    "        print(f\"Update from subgraph {graph_id}:\")\n",
    "        print(\"\\n\")\n",
    "        is_subgraph = True\n",
    "\n",
    "    for node_name, node_update in update.items():\n",
    "        update_label = f\"Update from node {node_name}:\"\n",
    "        if is_subgraph:\n",
    "            update_label = \"\\t\" + update_label\n",
    "\n",
    "        print(update_label)\n",
    "        print(\"\\n\")\n",
    "\n",
    "        messages = convert_to_messages(node_update[\"messages\"])\n",
    "        if last_message:\n",
    "            messages = messages[-1:]\n",
    "\n",
    "        for m in messages:\n",
    "            pretty_print_message(m, indent=is_subgraph)\n",
    "        print(\"\\n\")"
   ]
  },
  {
   "cell_type": "code",
   "execution_count": 7,
   "id": "c5aa01e1-17e4-4880-9c62-a22036de94d0",
   "metadata": {},
   "outputs": [
    {
     "name": "stdout",
     "output_type": "stream",
     "text": [
      "Update from node agent:\n",
      "\n",
      "\n",
      "==================================\u001b[1m Ai Message \u001b[0m==================================\n",
      "Name: research_agent\n",
      "Tool Calls:\n",
      "  tavily_search (fc_bac52efd-80a0-4d68-8e3e-51379ca35039)\n",
      " Call ID: fc_bac52efd-80a0-4d68-8e3e-51379ca35039\n",
      "  Args:\n",
      "    query: current mayor of New York City 2025\n",
      "    search_depth: advanced\n",
      "\n",
      "\n",
      "Update from node tools:\n",
      "\n",
      "\n",
      "=================================\u001b[1m Tool Message \u001b[0m=================================\n",
      "Name: tavily_search\n",
      "\n",
      "{\"query\": \"current mayor of New York City 2025\", \"follow_up_questions\": null, \"answer\": null, \"images\": [], \"results\": [{\"url\": \"https://www.nytimes.com/interactive/polls/nyc-mayoral-election-polls-2025.html\", \"title\": \"New York City Mayoral Election 2025: Latest Polls\", \"content\": \"With all the current candidates in the running, Zohran Mamdani holds nearly a two-to-one lead, 46 percent to 24 percent, over Andrew Cuomo, according to the New York Times/Siena University poll of the race. But if Cuomo got a one-on-one race against Mamdani, he might have a real shot at winning, the poll found. Of course, Mamdani’s upset win in the primary is a helpful reminder that low-turnout elections can have unpredictable electorates. This mayoral general election is no exception. [...] Polls largely underestimated Zohran Mamdani’s support in the Democratic primary for the New York City mayor, illustrating once again just how difficult it can be to accurately poll primary elections. While most polls did not show Mamdani leading in the first round of balloting, they did appear to show him gaining support in the final weeks of the campaign. He ultimately won with more than 56 percent of the vote after ranked-choice tabulation.\\n\\n### Latest polls\\n\\nAbout the data [...] By Irineo Cabreros, Annie Daniel, Jon Huang, Ruth Igielnik, Jasmine C. Lee, Alex Lemonides, Ilana Marcus, Dan Simmons-Ritchie, Jonah Smith, Caroline Soler, Albert Sun and Rumsey Taylor. Additional work by Lily Boyce, Andrew Chavez and Isaac White.\\n\\n## Related Content\\n\\nAdvertisement\\n\\n## Site Index\\n\\n## Site Information Navigation\", \"score\": 0.8116913, \"raw_content\": null}, {\"url\": \"https://en.wikipedia.org/wiki/Mayor_of_New_York_City\", \"title\": \"Mayor of New York City\", \"content\": \"Deputy mayors do not have any right to succeed to the mayoralty in the case of vacancy or incapacity of the mayor.\\n\\n### Current deputy mayors\\n\\n### Notable former deputy mayors\\n\\n|  |  |\\n --- |\\n|  | It has been suggested that this section be split out into another article titled List of former deputy mayors of New York City\\\"). (Discuss) (June 2025) |\\n\\nUnder Eric Adams\\n\\n#### Under Bill de Blasio\\n\\n#### Under Michael Bloomberg\\n\\n#### Previous administrations\\n\\n## Offices appointed [...] The current mayor is Eric Adams, who was elected on November 2, 2021, and took office shortly after midnight on January 1, 2022. [...] | Mayor of the City of New York | |\\n --- |\\n| Seal of the City of New York | |\\n| Standard of the mayor of New York City | |\\n| Incumbent Eric Adams since January 1, 2022 | |\\n| Government of New York City | |\\n| Style \\\"Style (form of address)\\\") | His Honor; Mr. Mayor (informal) |\\n| Residence | Gracie Mansion |\\n| Seat | New York City Hall |\\n| Term length | Four years, renewable once consecutively |\\n| Constituting instrument | New York City Charter |\\n| Inaugural holder | Thomas Willett |\", \"score\": 0.78393924, \"raw_content\": null}, {\"url\": \"https://www.nyc.gov/mayors-office\", \"title\": \"Welcome to the Mayor's Office\", \"content\": \"## News from the Mayor’s Office\\n\\nSee all news\\n\\nSeptember 19, 2025\\n\\nMayor Adam and NYPD commissioner Tsch i nthe middle, two table full of illegal fire arms\\n\\n## Hear from Eric\\n\\nGet the latest from Mayor Adams directly in your inbox and by text.\\n\\nPhoto of Mayor Adams\\n\\n#### Office of the Mayor\\n\\n#### Connect with the Mayor's Office\\n\\nFacebook\\nInstagram\\nYouTube\\nX\\nWhatsApp\\nFlickr\\n\\n### More on nyc.gov [...] #### 110th Mayor of New York City\\n\\nMayor Eric Adams has served the people of New York City as an NYPD officer, State Senator, Brooklyn Borough President, and now as the 110th Mayor of the City of New York. He gave voice to a diverse coalition of working families in all five boroughs and is leading the fight to bring back New York City’s economy, reduce inequality, improve public safety, and build a stronger, healthier city that delivers for all New Yorkers.\\n\\nRead full biography [...] © City of New York.\\n2025\\nAll Rights Reserved. NYC is a trademark and service mark of the City of New York.\", \"score\": 0.77589405, \"raw_content\": null}], \"response_time\": 4.27, \"request_id\": \"02820011-6042-4989-a828-eb1166fae4a5\"}\n",
      "\n",
      "\n",
      "Update from node agent:\n",
      "\n",
      "\n",
      "==================================\u001b[1m Ai Message \u001b[0m==================================\n",
      "Name: research_agent\n",
      "\n",
      "Eric Adams is the current mayor of New York City. He was elected in November 2021 and took office on January 1, 2022.\n",
      "\n",
      "\n"
     ]
    }
   ],
   "source": [
    "for chunk in research_agent.stream(\n",
    "    {\"messages\": [{\"role\": \"user\", \"content\": \"who is the mayor of NYC?\"}]}\n",
    "):\n",
    "    pretty_print_messages(chunk)"
   ]
  },
  {
   "cell_type": "code",
   "execution_count": 8,
   "id": "9150643a-5684-4723-9c7e-d8c83950cbf0",
   "metadata": {},
   "outputs": [],
   "source": [
    "from typing import TypedDict, Optional\n",
    "\n",
    "class State(TypedDict):\n",
    "    raw_message: str\n",
    "    query_type: Optional[str]\n",
    "    response: Optional[str]\n"
   ]
  },
  {
   "cell_type": "code",
   "execution_count": 12,
   "id": "73134205-0c0b-4f0e-81c2-fb434aa6cfb5",
   "metadata": {},
   "outputs": [],
   "source": [
    "def handle_meal_doubt(state: dict):\n",
    "    \"\"\"Answer nutrition/meal-related user doubts.\"\"\"\n",
    "    return {\"response\": f\"[MealDoubtAgent] Answering: {state['raw_message']}\"}\n",
    "\n",
    "def handle_user_update(state: dict):\n",
    "    \"\"\"Update user preferences or nutrition plan.\"\"\"\n",
    "    return {\"response\": f\"[UserUpdateAgent] Updating plan with: {state['raw_message']}\"}\n",
    "\n",
    "def handle_cook_update(state: dict):\n",
    "    \"\"\"Handle cook updates like missing ingredients.\"\"\"\n",
    "    return {\"response\": f\"[CookUpdateAgent] Cook update received: {state['raw_message']}\"}\n",
    "\n",
    "def handle_grocery_order(state: dict):\n",
    "    \"\"\"Trigger or update grocery orders.\"\"\"\n",
    "    return {\"response\": f\"[GroceryOrderAgent] Ordering groceries: {state['raw_message']}\"}\n"
   ]
  },
  {
   "cell_type": "code",
   "execution_count": 13,
   "id": "9fa8cabd-9a24-4b3a-b60f-524fe9938605",
   "metadata": {},
   "outputs": [],
   "source": [
    "supervisor_agent = create_react_agent(\n",
    "    model=groq_llm,\n",
    "    tools=[\n",
    "        handle_meal_doubt,\n",
    "        handle_user_update,\n",
    "        handle_cook_update,\n",
    "        handle_grocery_order,\n",
    "    ],\n",
    "    prompt=(\n",
    "        \"You are the Supervisor Agent for BetterMeals.\\n\"\n",
    "        \"- Route meal/nutrition doubts to MealDoubtAgent.\\n\"\n",
    "        \"- Route user profile or preference changes to UserUpdateAgent.\\n\"\n",
    "        \"- Route cook updates (missing ingredients) to CookUpdateAgent.\\n\"\n",
    "        \"- Route grocery ordering requests to GroceryOrderAgent.\\n\"\n",
    "        \"Always assign tasks to the correct agent. Do not solve them yourself.\"\n",
    "    ),\n",
    "    name=\"supervisor\",\n",
    ")"
   ]
  },
  {
   "cell_type": "code",
   "execution_count": 15,
   "id": "3edffeb8-d3e2-4e6d-8cc2-eb8e9b52c507",
   "metadata": {},
   "outputs": [
    {
     "name": "stdout",
     "output_type": "stream",
     "text": [
      "Update from node agent:\n",
      "\n",
      "\n",
      "==================================\u001b[1m Ai Message \u001b[0m==================================\n",
      "Name: supervisor\n",
      "Tool Calls:\n",
      "  handle_grocery_order (fc_2cbf950c-36b7-4d94-ad8c-1575cf59b17f)\n",
      " Call ID: fc_2cbf950c-36b7-4d94-ad8c-1575cf59b17f\n",
      "  Args:\n",
      "    state: {}\n",
      "\n",
      "\n",
      "Update from node tools:\n",
      "\n",
      "\n",
      "=================================\u001b[1m Tool Message \u001b[0m=================================\n",
      "Name: handle_grocery_order\n",
      "\n",
      "Error: KeyError('raw_message')\n",
      " Please fix your mistakes.\n",
      "\n",
      "\n",
      "Update from node agent:\n",
      "\n",
      "\n",
      "==================================\u001b[1m Ai Message \u001b[0m==================================\n",
      "Name: supervisor\n",
      "Tool Calls:\n",
      "  handle_grocery_order (fc_67901d26-fe06-4fdd-a7f1-a1466b125f0b)\n",
      " Call ID: fc_67901d26-fe06-4fdd-a7f1-a1466b125f0b\n",
      "  Args:\n",
      "    state: {'items': ['broccoli']}\n",
      "\n",
      "\n",
      "Update from node tools:\n",
      "\n",
      "\n",
      "=================================\u001b[1m Tool Message \u001b[0m=================================\n",
      "Name: handle_grocery_order\n",
      "\n",
      "Error: KeyError('raw_message')\n",
      " Please fix your mistakes.\n",
      "\n",
      "\n",
      "Update from node agent:\n",
      "\n",
      "\n",
      "==================================\u001b[1m Ai Message \u001b[0m==================================\n",
      "Name: supervisor\n",
      "Tool Calls:\n",
      "  handle_grocery_order (fc_71e9898b-7c4b-452f-a05d-3b989a602f52)\n",
      " Call ID: fc_71e9898b-7c4b-452f-a05d-3b989a602f52\n",
      "  Args:\n",
      "    state: {'items': ['broccoli'], 'raw_message': 'order broccoli for dinner'}\n",
      "\n",
      "\n",
      "Update from node tools:\n",
      "\n",
      "\n",
      "=================================\u001b[1m Tool Message \u001b[0m=================================\n",
      "Name: handle_grocery_order\n",
      "\n",
      "{\"response\": \"[GroceryOrderAgent] Ordering groceries: order broccoli for dinner\"}\n",
      "\n",
      "\n",
      "Update from node agent:\n",
      "\n",
      "\n",
      "==================================\u001b[1m Ai Message \u001b[0m==================================\n",
      "Name: supervisor\n",
      "\n",
      "{\"response\":\"[GroceryOrderAgent] Ordering groceries: order broccoli for dinner\"}\n",
      "\n",
      "\n"
     ]
    }
   ],
   "source": [
    "for chunk in supervisor_agent.stream(\n",
    "    {\"messages\": [{\"role\": \"user\", \"content\": \"order brocoli for dinner?\"}]}\n",
    "):\n",
    "    pretty_print_messages(chunk)"
   ]
  },
  {
   "cell_type": "code",
   "execution_count": null,
   "id": "c4abea61-2fe1-422a-b4a2-19a3818873f2",
   "metadata": {},
   "outputs": [],
   "source": []
  },
  {
   "cell_type": "code",
   "execution_count": null,
   "id": "418c3a8c-66ba-48c5-bfbf-3dce61ad7ba3",
   "metadata": {},
   "outputs": [],
   "source": []
  },
  {
   "cell_type": "code",
   "execution_count": null,
   "id": "a03fd67d-475a-4009-8f7c-b57d488e0b2f",
   "metadata": {},
   "outputs": [],
   "source": []
  },
  {
   "cell_type": "code",
   "execution_count": null,
   "id": "590a9d6a-a41f-4a05-8fe2-9dc4da352f54",
   "metadata": {},
   "outputs": [],
   "source": []
  },
  {
   "cell_type": "code",
   "execution_count": null,
   "id": "161a3e4b-f997-407d-ad60-5a3b69423974",
   "metadata": {},
   "outputs": [],
   "source": []
  },
  {
   "cell_type": "code",
   "execution_count": null,
   "id": "fd3a3f30-cc32-4f51-b7f2-797828a93109",
   "metadata": {},
   "outputs": [],
   "source": []
  },
  {
   "cell_type": "code",
   "execution_count": null,
   "id": "88718b72-5b7c-4765-99cc-0cc52bf7cc70",
   "metadata": {},
   "outputs": [],
   "source": []
  }
 ],
 "metadata": {
  "kernelspec": {
   "display_name": "Python 3 (ipykernel)",
   "language": "python",
   "name": "python3"
  },
  "language_info": {
   "codemirror_mode": {
    "name": "ipython",
    "version": 3
   },
   "file_extension": ".py",
   "mimetype": "text/x-python",
   "name": "python",
   "nbconvert_exporter": "python",
   "pygments_lexer": "ipython3",
   "version": "3.13.5"
  }
 },
 "nbformat": 4,
 "nbformat_minor": 5
}
